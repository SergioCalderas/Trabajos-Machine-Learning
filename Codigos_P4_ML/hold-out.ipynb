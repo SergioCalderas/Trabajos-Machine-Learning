{
 "cells": [
  {
   "cell_type": "markdown",
   "id": "c5d6bf71-e37f-483f-a1a4-75735042d5f7",
   "metadata": {},
   "source": [
    "<h1> P4 Hold out </h1>"
   ]
  },
  {
   "cell_type": "code",
   "execution_count": 36,
   "id": "f19cf54a-8368-4c37-adf7-02179797e774",
   "metadata": {},
   "outputs": [],
   "source": [
    "import pandas as pd\n",
    "from sklearn.datasets import load_wine\n",
    "from sklearn.ensemble import RandomForestClassifier\n",
    "from sklearn.metrics import accuracy_score\n",
    "import random  # Importar el módulo random\n"
   ]
  },
  {
   "cell_type": "code",
   "execution_count": 38,
   "id": "d03d374b-65ec-4df9-9bf0-6a38387d6c3b",
   "metadata": {},
   "outputs": [
    {
     "name": "stdout",
     "output_type": "stream",
     "text": [
      "Raisin Dataset cargado correctamente.\n",
      "\n",
      "Primeras filas del Wine Dataset:\n",
      "   alcohol  malic_acid   ash  alcalinity_of_ash  magnesium  total_phenols  \\\n",
      "0    14.23        1.71  2.43               15.6      127.0           2.80   \n",
      "1    13.20        1.78  2.14               11.2      100.0           2.65   \n",
      "2    13.16        2.36  2.67               18.6      101.0           2.80   \n",
      "3    14.37        1.95  2.50               16.8      113.0           3.85   \n",
      "4    13.24        2.59  2.87               21.0      118.0           2.80   \n",
      "\n",
      "   flavanoids  nonflavanoid_phenols  proanthocyanins  color_intensity   hue  \\\n",
      "0        3.06                  0.28             2.29             5.64  1.04   \n",
      "1        2.76                  0.26             1.28             4.38  1.05   \n",
      "2        3.24                  0.30             2.81             5.68  1.03   \n",
      "3        3.49                  0.24             2.18             7.80  0.86   \n",
      "4        2.69                  0.39             1.82             4.32  1.04   \n",
      "\n",
      "   od280/od315_of_diluted_wines  proline  target  \n",
      "0                          3.92   1065.0       0  \n",
      "1                          3.40   1050.0       0  \n",
      "2                          3.17   1185.0       0  \n",
      "3                          3.45   1480.0       0  \n",
      "4                          2.93    735.0       0  \n",
      "\n",
      "Primeras filas del Raisin Dataset:\n",
      "    Area  MajorAxisLength  MinorAxisLength  Eccentricity  ConvexArea  \\\n",
      "0  87524       442.246011       253.291155      0.819738       90546   \n",
      "1  75166       406.690687       243.032436      0.801805       78789   \n",
      "2  90856       442.267048       266.328318      0.798354       93717   \n",
      "3  45928       286.540559       208.760042      0.684989       47336   \n",
      "4  79408       352.190770       290.827533      0.564011       81463   \n",
      "\n",
      "     Extent  Perimeter    Class  \n",
      "0  0.758651   1184.040  Kecimen  \n",
      "1  0.684130   1121.786  Kecimen  \n",
      "2  0.637613   1208.575  Kecimen  \n",
      "3  0.699599    844.162  Kecimen  \n",
      "4  0.792772   1073.251  Kecimen  \n"
     ]
    }
   ],
   "source": [
    "# Cargar el dataset de wine desde scikit-learn como dataframe de pandas\n",
    "wine = load_wine(as_frame=True)['frame']\n",
    "\n",
    "# Cargar el dataset de Raisin desde el archivo CSV\n",
    "try:\n",
    "    raisin_data = pd.read_csv('Raisin_Dataset.csv', delimiter=',')\n",
    "    print(\"Raisin Dataset cargado correctamente.\")\n",
    "except FileNotFoundError:\n",
    "    print(\"Error: No se encontró el archivo Raisin_Dataset.csv. Verifica su ubicación y nombre.\")\n",
    "\n",
    "# Mostrar las primeras filas de ambos datasets\n",
    "print(\"\\nPrimeras filas del Wine Dataset:\")\n",
    "print(wine.head())\n",
    "\n",
    "print(\"\\nPrimeras filas del Raisin Dataset:\")\n",
    "print(raisin_data.head())"
   ]
  },
  {
   "cell_type": "code",
   "execution_count": 40,
   "id": "011695d5-958f-4e24-99f8-e745548b35c3",
   "metadata": {},
   "outputs": [],
   "source": [
    "# Función de Hold out \n",
    "def hold_out_validation(data, r=0.3):\n",
    "    #Separa características y etiquetas\n",
    "    X = data.iloc[:,:-1] #Todas las columnas menos la última\n",
    "    y = data.iloc[:,-1] #última columna (etiquetas)\n",
    "\n",
    "    #Division de entrenamiento y prueba\n",
    "    n = len(X)\n",
    "    test_size = int(n * r) #Tamaño conjunto de prueba\n",
    "    train_size = n - test_size\n",
    "\n",
    "    #Mezclar índices aleatoriamente\n",
    "    indices = list(range(n))\n",
    "    random.shuffle(indices)\n",
    "\n",
    "    #Seleccionar subconjunto de entrenamiento y prueba\n",
    "    train_indices = indices[:train_size]\n",
    "    test_indices = indices[train_size:]\n",
    "\n",
    "    X_train = X.iloc[train_indices]\n",
    "    y_train = y.iloc[train_indices]\n",
    "    X_test = X.iloc[test_indices]\n",
    "    y_test = y.iloc[test_indices]\n",
    "\n",
    "    print(f\"Tamaño del entrenamiento: {len(X_train)}, Tamaño del test: {len(X_test)}\")\n",
    "   \n",
    "    #Entrenar un modelo simple\n",
    "    model = RandomForestClassifier(random_state=42)\n",
    "    model.fit(X_train, y_train)\n",
    "\n",
    "    #Hacer predicciones\n",
    "    y_pred = model.predict(X_test)\n",
    "\n",
    "    #Calcular exactitud\n",
    "    accuracy = accuracy_score(y_test, y_pred)\n",
    "    print(f\"Exactitud en Hold Out (r={r}): {accuracy:.2f}\")\n",
    "\n"
   ]
  },
  {
   "cell_type": "code",
   "execution_count": 42,
   "id": "c9958985-1cbc-4c8c-b8e4-a730b37f59e5",
   "metadata": {},
   "outputs": [
    {
     "name": "stdout",
     "output_type": "stream",
     "text": [
      "Ingrese el limite inferior de r (0 a 10) : \n"
     ]
    },
    {
     "name": "stdin",
     "output_type": "stream",
     "text": [
      " 5\n"
     ]
    },
    {
     "name": "stdout",
     "output_type": "stream",
     "text": [
      "Ingrese el limite superior de r (0 a 10) : \n"
     ]
    },
    {
     "name": "stdin",
     "output_type": "stream",
     "text": [
      " 10\n"
     ]
    },
    {
     "name": "stdout",
     "output_type": "stream",
     "text": [
      "Hold-Out con Wine Dataset:\n",
      "Tamaño del entrenamiento: 89, Tamaño del test: 89\n",
      "Exactitud en Hold Out (r=0.5): 0.99\n",
      "Tamaño del entrenamiento: 72, Tamaño del test: 106\n",
      "Exactitud en Hold Out (r=0.6): 0.96\n",
      "Tamaño del entrenamiento: 54, Tamaño del test: 124\n",
      "Exactitud en Hold Out (r=0.7): 0.98\n",
      "Tamaño del entrenamiento: 36, Tamaño del test: 142\n",
      "Exactitud en Hold Out (r=0.8): 0.93\n",
      "Tamaño del entrenamiento: 18, Tamaño del test: 160\n",
      "Exactitud en Hold Out (r=0.9): 0.92\n",
      "\n",
      "Hold-Out con Raisin Dataset:\n",
      "Tamaño del entrenamiento: 450, Tamaño del test: 450\n",
      "Exactitud en Hold Out (r=0.5): 0.83\n",
      "Tamaño del entrenamiento: 360, Tamaño del test: 540\n",
      "Exactitud en Hold Out (r=0.6): 0.87\n",
      "Tamaño del entrenamiento: 270, Tamaño del test: 630\n",
      "Exactitud en Hold Out (r=0.7): 0.85\n",
      "Tamaño del entrenamiento: 180, Tamaño del test: 720\n",
      "Exactitud en Hold Out (r=0.8): 0.84\n",
      "Tamaño del entrenamiento: 90, Tamaño del test: 810\n",
      "Exactitud en Hold Out (r=0.9): 0.84\n"
     ]
    }
   ],
   "source": [
    "# Ejecutar la validación Hold Out con diferentes proporciones de prueba\n",
    "print(\"Ingrese el limite inferior de r (0 a 10) : \")\n",
    "inf_r = int(input())\n",
    "print(\"Ingrese el limite superior de r (0 a 10) : \")\n",
    "sup_r = int(input())\n",
    "\n",
    "# Validar entradas para evitar errores\n",
    "if not (0 <= inf_r <= 10) or not (0 <= sup_r <= 10) or inf_r >= sup_r:\n",
    "    print(\"Los límites no son válidos. Asegúrate de que 0 ≤ inf_r < sup_r ≤ 10.\")\n",
    "else:\n",
    "    # Ejecutar Hold-Out con los datasets para los valores de r dados\n",
    "    print(\"Hold-Out con Wine Dataset:\")\n",
    "    for r in range(inf_r, sup_r):\n",
    "        hold_out_validation(wine, r / 10)\n",
    "\n",
    "    # Ejecutar Hold-Out para el dataset de Raisin\n",
    "    print(\"\\nHold-Out con Raisin Dataset:\")\n",
    "    for r in range(inf_r, sup_r):\n",
    "        hold_out_validation(raisin_data, r / 10)\n",
    "\n",
    "\n"
   ]
  },
  {
   "cell_type": "code",
   "execution_count": null,
   "id": "3c5f2f66-63fe-454e-9c4e-4bc9f97365cb",
   "metadata": {},
   "outputs": [],
   "source": []
  }
 ],
 "metadata": {
  "kernelspec": {
   "display_name": "Python 3 (ipykernel)",
   "language": "python",
   "name": "python3"
  },
  "language_info": {
   "codemirror_mode": {
    "name": "ipython",
    "version": 3
   },
   "file_extension": ".py",
   "mimetype": "text/x-python",
   "name": "python",
   "nbconvert_exporter": "python",
   "pygments_lexer": "ipython3",
   "version": "3.12.3"
  }
 },
 "nbformat": 4,
 "nbformat_minor": 5
}
