{
 "cells": [
  {
   "cell_type": "markdown",
   "id": "9d2f2815-1bc3-46f0-90f8-da84ae7b384a",
   "metadata": {},
   "source": [
    "# K fold cross validation"
   ]
  },
  {
   "cell_type": "code",
   "execution_count": 1,
   "id": "8d4e8076-d079-497f-8230-07d0580c69d6",
   "metadata": {},
   "outputs": [],
   "source": [
    "# Importar las librerias\n",
    "import numpy as np\n",
    "import pandas as pd"
   ]
  },
  {
   "cell_type": "code",
   "execution_count": 2,
   "id": "d3d0e028-3d1d-4b48-a3ca-61549aa40c23",
   "metadata": {},
   "outputs": [],
   "source": [
    "# Cargar el Dataset de Raisin Y Wine\n",
    "archivo_csv = 'C:/Users/S ALBERT FC/Documents/ESCOM/5° semestre/Aprendizaje Maquina/wine.csv'\n",
    "# archivo_csv = 'C:/Users/S ALBERT FC/Documents/ESCOM/5° semestre/Aprendizaje Maquina/raisin.csv'\n",
    "data = pd.read_csv(archivo_csv, delimiter=',')"
   ]
  },
  {
   "cell_type": "code",
   "execution_count": 3,
   "id": "d0949116-6b77-4283-8739-5defdb81f0e2",
   "metadata": {},
   "outputs": [],
   "source": [
    "# Definir el numero de k\n",
    "k = 5"
   ]
  },
  {
   "cell_type": "code",
   "execution_count": 4,
   "id": "574e4a11-ee9a-4a87-90fc-3a92c15b8949",
   "metadata": {},
   "outputs": [
    {
     "name": "stderr",
     "output_type": "stream",
     "text": [
      "C:\\Users\\S ALBERT FC\\AppData\\Local\\Programs\\Python\\Python311\\Lib\\site-packages\\numpy\\core\\fromnumeric.py:59: FutureWarning: 'DataFrame.swapaxes' is deprecated and will be removed in a future version. Please use 'DataFrame.transpose' instead.\n",
      "  return bound(*args, **kwds)\n"
     ]
    }
   ],
   "source": [
    "# Mezclar los datos de forma aleatoria\n",
    "data = data.sample(frac=1).reset_index(drop=True)\n",
    "\n",
    "# Dividir los datos en K partes\n",
    "folds = np.array_split(data, k)"
   ]
  },
  {
   "cell_type": "code",
   "execution_count": 5,
   "id": "9d77f848-0e30-44f1-af25-822631a28f7e",
   "metadata": {},
   "outputs": [
    {
     "name": "stdout",
     "output_type": "stream",
     "text": [
      "\n",
      "Fold 1:\n",
      "Tamaño del conjunto de entrenamiento: 142\n",
      "Tamaño del conjunto de prueba: 36\n",
      "\n",
      "Fold 2:\n",
      "Tamaño del conjunto de entrenamiento: 142\n",
      "Tamaño del conjunto de prueba: 36\n",
      "\n",
      "Fold 3:\n",
      "Tamaño del conjunto de entrenamiento: 142\n",
      "Tamaño del conjunto de prueba: 36\n",
      "\n",
      "Fold 4:\n",
      "Tamaño del conjunto de entrenamiento: 143\n",
      "Tamaño del conjunto de prueba: 35\n",
      "\n",
      "Fold 5:\n",
      "Tamaño del conjunto de entrenamiento: 143\n",
      "Tamaño del conjunto de prueba: 35\n"
     ]
    }
   ],
   "source": [
    "# k-fold cross validation\n",
    "for i in range(k):\n",
    "    print(f\"\\nFold {i+1}:\")\n",
    "    \n",
    "    # Seleccionar el fold actual como conjunto de prueba\n",
    "    prueba = folds[i]\n",
    "    \n",
    "    # Usar los otros K-1 folds como conjunto de entrenamiento\n",
    "    entrenamiento = pd.concat([folds[j] for j in range(k) if j != i])\n",
    "    \n",
    "    # Aquí puedes hacer la implementación del modelo con el conjunto de entrenamiento\n",
    "    print(f\"Tamaño del conjunto de entrenamiento: {len(entrenamiento)}\")\n",
    "    print(f\"Tamaño del conjunto de prueba: {len(prueba)}\")"
   ]
  }
 ],
 "metadata": {
  "kernelspec": {
   "display_name": "Python 3 (ipykernel)",
   "language": "python",
   "name": "python3"
  },
  "language_info": {
   "codemirror_mode": {
    "name": "ipython",
    "version": 3
   },
   "file_extension": ".py",
   "mimetype": "text/x-python",
   "name": "python",
   "nbconvert_exporter": "python",
   "pygments_lexer": "ipython3",
   "version": "3.11.5"
  }
 },
 "nbformat": 4,
 "nbformat_minor": 5
}
