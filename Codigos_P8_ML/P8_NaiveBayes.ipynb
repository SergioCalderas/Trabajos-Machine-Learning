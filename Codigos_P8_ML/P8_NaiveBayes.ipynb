{
 "cells": [
  {
   "cell_type": "markdown",
   "id": "1e157b38-874c-411e-b9f1-a1dd27d5f8e8",
   "metadata": {},
   "source": [
    "# Clasificador Naive Bayes"
   ]
  },
  {
   "cell_type": "code",
   "execution_count": 1,
   "id": "e5d61f30-4150-4ffa-a334-bf61b2e2b1f4",
   "metadata": {},
   "outputs": [],
   "source": [
    "# Importar las librerias\n",
    "import numpy as np\n",
    "import pandas as pd\n",
    "from sklearn.naive_bayes import GaussianNB # Libreria para el clasificador Naive Bayes\n",
    "from sklearn.metrics import accuracy_score, confusion_matrix"
   ]
  },
  {
   "cell_type": "code",
   "execution_count": 2,
   "id": "1bed5c3e-7467-4cad-ab20-35c92cbbeffb",
   "metadata": {},
   "outputs": [],
   "source": [
    "# Funcion de validacion Hold-Out\n",
    "def hold_out_validation(data, test_size=0.3):\n",
    "    X = data.iloc[:, :-1].values\n",
    "    y = data.iloc[:, -1].values\n",
    "    \n",
    "    n = len(X)\n",
    "    test_size = int(n * test_size)\n",
    "    indices = list(range(n))\n",
    "    np.random.shuffle(indices)\n",
    "\n",
    "    train_indices = indices[:n - test_size]\n",
    "    test_indices = indices[n - test_size:]\n",
    "    X_train, y_train = X[train_indices], y[train_indices]\n",
    "    X_test, y_test = X[test_indices], y[test_indices]\n",
    "\n",
    "    # Prediccion con Naive Bayes\n",
    "    model = GaussianNB()\n",
    "    model.fit(X_train, y_train)\n",
    "    y_pred = model.predict(X_test)\n",
    "\n",
    "    return y_test, y_pred"
   ]
  },
  {
   "cell_type": "code",
   "execution_count": 3,
   "id": "31b33d65-0e68-41f0-bdc4-38cfa9547bce",
   "metadata": {},
   "outputs": [],
   "source": [
    "# Funcion de validacion K fold cross validation\n",
    "def k_fold_validation(data, k=10):\n",
    "    X = data.iloc[:, :-1].values\n",
    "    y = data.iloc[:, -1].values\n",
    "    folds = np.array_split(data, k)\n",
    "\n",
    "    y_tests = []\n",
    "    y_preds = []\n",
    "    \n",
    "    for i in range(k):\n",
    "        test_data = folds[i]\n",
    "        train_data = pd.concat([folds[j] for j in range(k) if j != i])\n",
    "\n",
    "        X_train = train_data.iloc[:, :-1].values\n",
    "        y_train = train_data.iloc[:, -1].values\n",
    "        X_test = test_data.iloc[:, :-1].values\n",
    "        y_test = test_data.iloc[:, -1].values\n",
    "\n",
    "        # Prediccion con Naive Bayes\n",
    "        model = GaussianNB()\n",
    "        model.fit(X_train, y_train)\n",
    "        y_pred = model.predict(X_test)\n",
    "        \n",
    "        y_tests.extend(y_test)\n",
    "        y_preds.extend(y_pred)\n",
    "    \n",
    "    return y_tests, y_preds"
   ]
  },
  {
   "cell_type": "code",
   "execution_count": 4,
   "id": "6d44bb0a-6164-46fe-8457-ee98cc56311f",
   "metadata": {},
   "outputs": [],
   "source": [
    "def split_data(data, iteracion):\n",
    "    indices = data.index.tolist()  # Lista de índices de las filas en el conjunto de datos\n",
    "    test_data = data.iloc[[iteracion]]  # Seleccionar una fila (el patrón para prueba)\n",
    "    train_data = data.drop(iteracion)  # Todas las filas excepto la de test (para entrenamiento)\n",
    "    return train_data, test_data\n",
    "\n",
    "# Funcion de validacion leave one out\n",
    "def leave_one_out_validation(data):\n",
    "    y_tests = []\n",
    "    y_preds = []\n",
    "\n",
    "    for i in range(len(data)):\n",
    "        # Separar un punto para prueba y el resto para entrenamiento\n",
    "        train_data, test_data = split_data(data, i)\n",
    "        X_train = train_data.iloc[:, :-1].values\n",
    "        y_train = train_data.iloc[:, -1].values\n",
    "        X_test = test_data.iloc[:, :-1].values\n",
    "        y_test = test_data.iloc[:, -1].values\n",
    "\n",
    "        # Prediccion con Naive Bayes\n",
    "        model = GaussianNB()\n",
    "        model.fit(X_train, y_train)\n",
    "        y_pred = model.predict(X_test)\n",
    "        \n",
    "        y_tests.extend(y_test)\n",
    "        y_preds.extend(y_pred)\n",
    "    \n",
    "    return y_tests, y_preds"
   ]
  },
  {
   "cell_type": "code",
   "execution_count": 5,
   "id": "e29f6b28-3536-410d-b5c1-d640472b63ab",
   "metadata": {},
   "outputs": [],
   "source": [
    "# Funcion para evaluar el desempeño\n",
    "def evaluate_performance(y_true, y_pred):\n",
    "    accuracy = accuracy_score(y_true, y_pred)\n",
    "    conf_matrix = confusion_matrix(y_true, y_pred)\n",
    "    \n",
    "    print(\"Accuracy:\", accuracy)\n",
    "    print(\"Matriz de Confusión:\\n\", conf_matrix)"
   ]
  },
  {
   "cell_type": "code",
   "execution_count": 8,
   "id": "58b3889c-2cbc-4852-b4fe-2591ac63147a",
   "metadata": {},
   "outputs": [
    {
     "name": "stdout",
     "output_type": "stream",
     "text": [
      "\n",
      " **************************************************\n",
      "--- Validación en raisin.csv ---\n",
      "\n",
      "Hold-Out (70/30 Estratificado):\n",
      "Accuracy: 0.8148148148148148\n",
      "Matriz de Confusión:\n",
      " [[102  42]\n",
      " [  8 118]]\n",
      "\n",
      "10-Fold Cross-Validation Estratificado:\n",
      "Accuracy: 0.8177777777777778\n",
      "Matriz de Confusión:\n",
      " [[322 128]\n",
      " [ 36 414]]\n"
     ]
    },
    {
     "name": "stderr",
     "output_type": "stream",
     "text": [
      "C:\\Users\\S ALBERT FC\\AppData\\Local\\Programs\\Python\\Python311\\Lib\\site-packages\\numpy\\core\\fromnumeric.py:59: FutureWarning: 'DataFrame.swapaxes' is deprecated and will be removed in a future version. Please use 'DataFrame.transpose' instead.\n",
      "  return bound(*args, **kwds)\n"
     ]
    },
    {
     "name": "stdout",
     "output_type": "stream",
     "text": [
      "\n",
      "Leave-One-Out:\n",
      "Accuracy: 0.8233333333333334\n",
      "Matriz de Confusión:\n",
      " [[327 123]\n",
      " [ 36 414]]\n",
      "\n",
      " **************************************************\n",
      "--- Validación en glass.csv ---\n",
      "\n",
      "Hold-Out (70/30 Estratificado):\n",
      "Accuracy: 0.8253968253968254\n",
      "Matriz de Confusión:\n",
      " [[26  2  0  0  0  0]\n",
      " [ 7 14  0  0  0  0]\n",
      " [ 0  0  3  0  0  0]\n",
      " [ 0  1  0  1  0  0]\n",
      " [ 0  0  0  0  1  1]\n",
      " [ 0  0  0  0  0  7]]\n",
      "\n",
      "10-Fold Cross-Validation Estratificado:\n",
      "Accuracy: 0.6807511737089202\n",
      "Matriz de Confusión:\n",
      " [[64  5  0  0  0  0]\n",
      " [17 57  1  0  0  1]\n",
      " [ 0 10  7  0  0  0]\n",
      " [ 0  9  0  3  0  1]\n",
      " [ 0  5  0  1  0  3]\n",
      " [ 0 15  0  0  0 14]]\n"
     ]
    },
    {
     "name": "stderr",
     "output_type": "stream",
     "text": [
      "C:\\Users\\S ALBERT FC\\AppData\\Local\\Programs\\Python\\Python311\\Lib\\site-packages\\numpy\\core\\fromnumeric.py:59: FutureWarning: 'DataFrame.swapaxes' is deprecated and will be removed in a future version. Please use 'DataFrame.transpose' instead.\n",
      "  return bound(*args, **kwds)\n"
     ]
    },
    {
     "name": "stdout",
     "output_type": "stream",
     "text": [
      "\n",
      "Leave-One-Out:\n",
      "Accuracy: 0.812206572769953\n",
      "Matriz de Confusión:\n",
      " [[67  2  0  0  0  0]\n",
      " [22 47  6  0  0  1]\n",
      " [ 0  2 15  0  0  0]\n",
      " [ 0  4  0  8  0  1]\n",
      " [ 0  0  0  0  8  1]\n",
      " [ 0  1  0  0  0 28]]\n",
      "\n",
      " **************************************************\n",
      "--- Validación en iris.csv ---\n",
      "\n",
      "Hold-Out (70/30 Estratificado):\n",
      "Accuracy: 1.0\n",
      "Matriz de Confusión:\n",
      " [[19  0  0]\n",
      " [ 0 12  0]\n",
      " [ 0  0 13]]\n",
      "\n",
      "10-Fold Cross-Validation Estratificado:\n",
      "Accuracy: 0.9463087248322147\n",
      "Matriz de Confusión:\n",
      " [[49  0  0]\n",
      " [ 0 46  4]\n",
      " [ 0  4 46]]\n"
     ]
    },
    {
     "name": "stderr",
     "output_type": "stream",
     "text": [
      "C:\\Users\\S ALBERT FC\\AppData\\Local\\Programs\\Python\\Python311\\Lib\\site-packages\\numpy\\core\\fromnumeric.py:59: FutureWarning: 'DataFrame.swapaxes' is deprecated and will be removed in a future version. Please use 'DataFrame.transpose' instead.\n",
      "  return bound(*args, **kwds)\n"
     ]
    },
    {
     "name": "stdout",
     "output_type": "stream",
     "text": [
      "\n",
      "Leave-One-Out:\n",
      "Accuracy: 0.9530201342281879\n",
      "Matriz de Confusión:\n",
      " [[49  0  0]\n",
      " [ 0 47  3]\n",
      " [ 0  4 46]]\n"
     ]
    }
   ],
   "source": [
    "# Cargar y validar cada dataset\n",
    "datasets = ['raisin.csv', 'glass.csv', 'iris.csv']\n",
    "\n",
    "for dataset in datasets:\n",
    "    data = pd.read_csv(dataset)\n",
    "    print(\"\\n\", \"*\"*50)\n",
    "    print(f\"--- Validación en {dataset} ---\")\n",
    "\n",
    "    # Hold-Out 70/30\n",
    "    y_test, y_pred = hold_out_validation(data)\n",
    "    print(\"\\nHold-Out (70/30 Estratificado):\")\n",
    "    evaluate_performance(y_test, y_pred)\n",
    "\n",
    "    # 10-Fold Cross-Validation\n",
    "    y_test, y_pred = k_fold_validation(data)\n",
    "    print(\"\\n10-Fold Cross-Validation Estratificado:\")\n",
    "    evaluate_performance(y_test, y_pred)\n",
    "\n",
    "    # Leave-One-Out\n",
    "    y_test, y_pred = leave_one_out_validation(data)\n",
    "    print(\"\\nLeave-One-Out:\")\n",
    "    evaluate_performance(y_test, y_pred)    "
   ]
  },
  {
   "cell_type": "code",
   "execution_count": null,
   "id": "19d90b9f-ddc3-4042-b6f1-516dd250e5de",
   "metadata": {},
   "outputs": [],
   "source": []
  }
 ],
 "metadata": {
  "kernelspec": {
   "display_name": "Python 3 (ipykernel)",
   "language": "python",
   "name": "python3"
  },
  "language_info": {
   "codemirror_mode": {
    "name": "ipython",
    "version": 3
   },
   "file_extension": ".py",
   "mimetype": "text/x-python",
   "name": "python",
   "nbconvert_exporter": "python",
   "pygments_lexer": "ipython3",
   "version": "3.11.5"
  }
 },
 "nbformat": 4,
 "nbformat_minor": 5
}
