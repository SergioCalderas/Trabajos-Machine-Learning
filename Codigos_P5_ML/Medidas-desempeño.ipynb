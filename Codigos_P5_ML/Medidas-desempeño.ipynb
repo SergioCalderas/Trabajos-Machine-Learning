{
 "cells": [
  {
   "cell_type": "markdown",
   "id": "972ee306-ab7f-4ab5-8a99-9b6cb9083146",
   "metadata": {},
   "source": [
    "# Medidas de desempeño"
   ]
  },
  {
   "cell_type": "code",
   "execution_count": 1,
   "id": "e3ff5ff0-3d74-45a1-addf-d6784f66ef0f",
   "metadata": {},
   "outputs": [],
   "source": [
    "# Importar las librerias para cargar el dataset\n",
    "import numpy as np\n",
    "import pandas as pd"
   ]
  },
  {
   "cell_type": "code",
   "execution_count": 2,
   "id": "a60c5877-d53d-4bf5-8d5d-2fec8b70a8ab",
   "metadata": {},
   "outputs": [],
   "source": [
    "# Cargar el Dataset de Raisin con Dos Clases\n",
    "archivo_csv = 'C:/Users/S ALBERT FC/Documents/ESCOM/5° semestre/Aprendizaje Maquina/raisin.csv'\n",
    "data = pd.read_csv(archivo_csv, delimiter=',')"
   ]
  },
  {
   "cell_type": "code",
   "execution_count": 3,
   "id": "9feb40e6-13c2-43f8-a699-3ae1274d37b1",
   "metadata": {},
   "outputs": [],
   "source": [
    "# Separar características y la clase objetivo\n",
    "X = data.drop('Class', axis=1) \n",
    "y_true = data['Class'].tolist() "
   ]
  },
  {
   "cell_type": "code",
   "execution_count": 4,
   "id": "67c499f1-2f58-45a1-9356-8dbcd6497bc0",
   "metadata": {},
   "outputs": [],
   "source": [
    "# Funcion para calcular la matriz de confusion\n",
    "def matriz_confusion(y_true, y_pred):\n",
    "    TP = FN = FP = TN = 0\n",
    "    for i in range(len(y_true)):\n",
    "        if y_true[i] == 1 and y_pred[i] == 1:\n",
    "            TP += 1\n",
    "        elif y_true[i] == 1 and y_pred[i] == 0:\n",
    "            FN += 1\n",
    "        elif y_true[i] == 0 and y_pred[i] == 1:\n",
    "            FP += 1\n",
    "        elif y_true[i] == 0 and y_pred[i] == 0:\n",
    "            TN += 1\n",
    "    return TP, FN, FP, TN"
   ]
  },
  {
   "cell_type": "code",
   "execution_count": 6,
   "id": "68323caa-0032-4dea-a5b7-1678d6f41d6a",
   "metadata": {},
   "outputs": [],
   "source": [
    "# Funcion para calcular las metricas\n",
    "def calcular_metricas(TP, TN, FP, FN):\n",
    "    precision = TP / (TP + FP) if (TP + FP) > 0 else 0\n",
    "    recall = TP / (TP + FN) if (TP + FN) > 0 else 0\n",
    "    positive_predictive_value = precision\n",
    "    true_positive_rate = recall\n",
    "    true_negative_rate = TN / (TN + FP) if (TN + FP) > 0 else 0\n",
    "    false_positive_rate = FP / (FP + TN) if (FP + TN) > 0 else 0\n",
    "    false_negative_rate = FN / (FN + TP) if (FN + TP) > 0 else 0\n",
    "    f1_score = (2 * precision * recall) / (precision + recall) if (precision + recall) > 0 else 0\n",
    "    \n",
    "    # Calcular accuracy y error rate\n",
    "    total = TP + TN + FP + FN\n",
    "    accuracy = (TP + TN) / total if total > 0 else 0\n",
    "    error_rate = (FP + FN) / total if total > 0 else 0\n",
    "\n",
    "    return {\n",
    "        \"Accuracy\": accuracy,\n",
    "        \"Error Rate\": error_rate,\n",
    "        \"Precision\": precision,\n",
    "        \"Recall\": recall,\n",
    "        \"Positive Predictive Value\": positive_predictive_value,\n",
    "        \"True Positive Rate\": true_positive_rate,\n",
    "        \"True Negative Rate\": true_negative_rate,\n",
    "        \"False Positive Rate\": false_positive_rate,\n",
    "        \"False Negative Rate\": false_negative_rate,\n",
    "        \"F1-Score\": f1_score,\n",
    "    }"
   ]
  },
  {
   "cell_type": "code",
   "execution_count": 7,
   "id": "60c6bd79-64f0-4a7d-bb7c-cf252a191c57",
   "metadata": {},
   "outputs": [],
   "source": [
    "# Calcular la matriz de confusion\n",
    "TP, TN, FP, FN = matriz_confusion(y_true, y_pred)\n",
    "\n",
    "# Calcular las metricas\n",
    "metricas = calcular_metricas(TP, TN, FP, FN)"
   ]
  }
 ],
 "metadata": {
  "kernelspec": {
   "display_name": "Python 3 (ipykernel)",
   "language": "python",
   "name": "python3"
  },
  "language_info": {
   "codemirror_mode": {
    "name": "ipython",
    "version": 3
   },
   "file_extension": ".py",
   "mimetype": "text/x-python",
   "name": "python",
   "nbconvert_exporter": "python",
   "pygments_lexer": "ipython3",
   "version": "3.11.5"
  }
 },
 "nbformat": 4,
 "nbformat_minor": 5
}
