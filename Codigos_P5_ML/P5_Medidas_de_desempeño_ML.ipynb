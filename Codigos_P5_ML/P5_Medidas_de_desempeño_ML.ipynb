{
 "cells": [
  {
   "cell_type": "markdown",
   "id": "bd4bc2ed-ca94-47d1-8ea8-053953ee610d",
   "metadata": {},
   "source": [
    "<h1> Parte 2</h1>\n",
    "<h2> Librería donde lo podemos encontrar: sklearn-metrics</h2>"
   ]
  },
  {
   "cell_type": "code",
   "execution_count": 26,
   "id": "caff433a-a2ac-4c3c-a4fd-a973ba234053",
   "metadata": {},
   "outputs": [
    {
     "name": "stdout",
     "output_type": "stream",
     "text": [
      "Matriz de confusión: \n",
      "[[3 1]\n",
      " [2 2]]\n"
     ]
    }
   ],
   "source": [
    "from sklearn.metrics import( confusion_matrix, accuracy_score, precision_score,\n",
    "    recall_score, f1_score)\n",
    "\n",
    "# Ejemplificar\n",
    "# Supongamos un arreglo de clases reales y otro de predicciones \n",
    "y_true = [1, 0, 1, 1, 0, 1, 0, 0]\n",
    "y_pred = [1, 0, 0, 0, 0, 1, 0, 1]\n",
    "\n",
    "# Cálculo de la matriz de confusión\n",
    "conf_matrix = confusion_matrix(y_true, y_pred)\n",
    "print(\"Matriz de confusión: \")\n",
    "print(conf_matrix)\n"
   ]
  },
  {
   "cell_type": "markdown",
   "id": "f6ccff7c-d998-4326-914a-e18e05d753b0",
   "metadata": {},
   "source": [
    "<p>Se observa que 3 fueron clasificados como verdadero positivo, 2 verdadero negativo, y 1 de falso positivo, y 2 falso negativo </p>"
   ]
  },
  {
   "cell_type": "code",
   "execution_count": 21,
   "id": "958383c0-3da2-40c7-a2d3-f861c7c92b02",
   "metadata": {},
   "outputs": [
    {
     "name": "stdout",
     "output_type": "stream",
     "text": [
      "Accuracy: 0.62\n",
      "Error:0.38\n",
      "Presicion: 0.67\n",
      "Recall: 0.50\n",
      "F1 Score: 0.57\n"
     ]
    }
   ],
   "source": [
    "# Cálculo de métricas\n",
    "accuracy = accuracy_score(y_true, y_pred)\n",
    "error = 1 - accuracy \n",
    "precision = precision_score(y_true, y_pred)\n",
    "recall = recall_score(y_true, y_pred)\n",
    "f1 = f1_score(y_true, y_pred)\n",
    "\n",
    "\n",
    "# Mostrar resultados\n",
    "print(f\"Accuracy: {accuracy:.2f}\")\n",
    "print(f\"Error:{error:.2f}\")\n",
    "print(f\"Presicion: {precision:.2f}\")\n",
    "print(f\"Recall: {recall:.2f}\")\n",
    "print(f\"F1 Score: {f1:.2f}\")\n"
   ]
  },
  {
   "cell_type": "code",
   "execution_count": null,
   "id": "e63366cc-28e2-4275-b1e0-31b136e4adda",
   "metadata": {},
   "outputs": [],
   "source": []
  }
 ],
 "metadata": {
  "kernelspec": {
   "display_name": "Python 3 (ipykernel)",
   "language": "python",
   "name": "python3"
  },
  "language_info": {
   "codemirror_mode": {
    "name": "ipython",
    "version": 3
   },
   "file_extension": ".py",
   "mimetype": "text/x-python",
   "name": "python",
   "nbconvert_exporter": "python",
   "pygments_lexer": "ipython3",
   "version": "3.11.5"
  }
 },
 "nbformat": 4,
 "nbformat_minor": 5
}
