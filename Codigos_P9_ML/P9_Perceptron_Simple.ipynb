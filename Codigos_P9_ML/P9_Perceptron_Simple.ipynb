{
 "cells": [
  {
   "cell_type": "markdown",
   "id": "c12515ad-8d75-4363-a093-af03e6a818c4",
   "metadata": {},
   "source": [
    "# Perceptron Simple"
   ]
  },
  {
   "cell_type": "code",
   "execution_count": 1,
   "id": "972e6e2e-d925-445d-a01a-ac23e3ecfed9",
   "metadata": {},
   "outputs": [],
   "source": [
    "# Importar las librerias\n",
    "import numpy as np\n",
    "import pandas as pd"
   ]
  },
  {
   "cell_type": "code",
   "execution_count": 2,
   "id": "aa9f9889-8d74-4a62-940a-29d7ad140814",
   "metadata": {},
   "outputs": [],
   "source": [
    "# Funcion de Activacion\n",
    "def funcionActivacion(entrada):\n",
    "    if entrada >= 0:\n",
    "        return 1\n",
    "    else:\n",
    "        return 0"
   ]
  },
  {
   "cell_type": "code",
   "execution_count": 3,
   "id": "49a8eec8-3df6-45b6-91c5-02ad6242a241",
   "metadata": {},
   "outputs": [],
   "source": [
    "# Entrenamiento del perceptron\n",
    "def perceptron_train(entradas, salidas, pesos, b, alpha, epocas):\n",
    "    for epoca in range(epocas):\n",
    "        print(\"*\" * 90)\n",
    "        print(f\"EPOCA {epoca + 1}\")\n",
    "        for i in range(len(entradas)):\n",
    "            # Calcular la salida y el error del perceptron\n",
    "            n = np.dot(entradas[i], pesos) + b\n",
    "            yPrima = funcionActivacion(n)\n",
    "            e = salidas[i] - yPrima\n",
    "            if e != 0:  # Actualizar los pesos y el sesgo para minimizar el error\n",
    "                pesos = pesos + alpha * e * entradas[i]\n",
    "                b = b + alpha * e\n",
    "                print(f\"Pesos actualizados: {pesos}, Sesgo actualizado: {b}\")\n",
    "    return pesos, b"
   ]
  },
  {
   "cell_type": "code",
   "execution_count": 4,
   "id": "b20b51e8-c90f-430c-9673-b5ef34cad495",
   "metadata": {},
   "outputs": [],
   "source": [
    "# Prediccion con el perceptron entrenado\n",
    "def perceptron_predict(entrada, pesos, b):\n",
    "    n = np.dot(entrada, pesos) + b\n",
    "    salida = funcionActivacion(n)\n",
    "    return salida"
   ]
  },
  {
   "cell_type": "code",
   "execution_count": 5,
   "id": "f455b1a4-17fa-478b-b1b4-e095a5f3542a",
   "metadata": {},
   "outputs": [],
   "source": [
    "# Funcion de validacion Hold-Out\n",
    "def hold_out_validation(data, test_size = 0.3, alpha=0.1, epocas=10):\n",
    "    # Separar características y etiquetas\n",
    "    X = data.iloc[:, :-1].values\n",
    "    y = data.iloc[:, -1].values\n",
    "\n",
    "    # Dividir en entrenamiento y prueba\n",
    "    n = len(X)\n",
    "    test_size = int(n * test_size)\n",
    "    indices = list(range(n))\n",
    "    np.random.shuffle(indices)\n",
    "\n",
    "    train_indices = indices[:n - test_size]\n",
    "    test_indices = indices[n - test_size:]\n",
    "    X_train, y_train = X[train_indices], y[train_indices]\n",
    "    X_test, y_test = X[test_indices], y[test_indices]\n",
    "\n",
    "    # Inicializar pesos y sesgo del perceptron\n",
    "    pesos = np.zeros(X_train.shape[1])\n",
    "    b = 0\n",
    "\n",
    "    # Entrenar perceptron\n",
    "    pesos, b = perceptron_train(X_train, y_train, pesos, b, alpha, epocas)\n",
    "\n",
    "    # Predecir resultados en el conjunto de prueba\n",
    "    y_pred = [perceptron_predict(x, pesos, b) for x in X_test]\n",
    "\n",
    "    return y_test, y_pred"
   ]
  },
  {
   "cell_type": "code",
   "execution_count": 6,
   "id": "2f78bd7d-7b13-4710-a734-21777755f877",
   "metadata": {},
   "outputs": [],
   "source": [
    "# Funcion para evaluar el desempeño\n",
    "def evaluate_performance(y_true, y_pred):\n",
    "    # Calcular accuracy\n",
    "    accuracy = sum(1 for yt, yp in zip(y_true, y_pred) if yt == yp) / len(y_true)\n",
    "\n",
    "    # Calcular matriz de confusion\n",
    "    TP = sum(1 for yt, yp in zip(y_true, y_pred) if yt == 1 and yp == 1)\n",
    "    TN = sum(1 for yt, yp in zip(y_true, y_pred) if yt == 0 and yp == 0)\n",
    "    FP = sum(1 for yt, yp in zip(y_true, y_pred) if yt == 0 and yp == 1)\n",
    "    FN = sum(1 for yt, yp in zip(y_true, y_pred) if yt == 1 and yp == 0)\n",
    "    conf_matrix = [[TP, FN], [FP, TN]]\n",
    "\n",
    "    # Mostrar resultados\n",
    "    print(\"Accuracy:\", accuracy)\n",
    "    print(\"Matriz de Confusión:\")\n",
    "    print(np.array(conf_matrix))"
   ]
  },
  {
   "cell_type": "code",
   "execution_count": 7,
   "id": "c93a2cb8-8499-44fc-85bd-9e6cb0cfec87",
   "metadata": {},
   "outputs": [],
   "source": [
    "# Cargar el dataset de iris con dos clases\n",
    "data = pd.read_csv('iris_dos_clases.csv')\n",
    "\n",
    "# Cambiar las etiquetas por 0 para Setosa y 1 para Virginia\n",
    "data['class'] = data['class'].apply(lambda x: 0 if x == 'Iris-setosa' else 1)"
   ]
  },
  {
   "cell_type": "code",
   "execution_count": 8,
   "id": "cf7b5e3b-8d00-4640-afc4-c5a4f0d4fb63",
   "metadata": {},
   "outputs": [
    {
     "name": "stdout",
     "output_type": "stream",
     "text": [
      "******************************************************************************************\n",
      "EPOCA 1\n",
      "Pesos actualizados: [-0.5  -0.35 -0.13 -0.03], Sesgo actualizado: -0.1\n",
      "Pesos actualizados: [ 0.13 -0.06  0.43  0.15], Sesgo actualizado: 0.0\n",
      "Pesos actualizados: [-0.45 -0.46  0.31  0.13], Sesgo actualizado: -0.1\n",
      "Pesos actualizados: [ 0.18 -0.12  0.87  0.37], Sesgo actualizado: 0.0\n",
      "Pesos actualizados: [-0.37 -0.47  0.74  0.35], Sesgo actualizado: -0.1\n",
      "******************************************************************************************\n",
      "EPOCA 2\n",
      "******************************************************************************************\n",
      "EPOCA 3\n",
      "******************************************************************************************\n",
      "EPOCA 4\n",
      "******************************************************************************************\n",
      "EPOCA 5\n",
      "******************************************************************************************\n",
      "EPOCA 6\n",
      "******************************************************************************************\n",
      "EPOCA 7\n",
      "******************************************************************************************\n",
      "EPOCA 8\n",
      "******************************************************************************************\n",
      "EPOCA 9\n",
      "******************************************************************************************\n",
      "EPOCA 10\n"
     ]
    }
   ],
   "source": [
    "# Realizar Hold-Out Validation\n",
    "y_test, y_pred = hold_out_validation(data)"
   ]
  },
  {
   "cell_type": "code",
   "execution_count": 9,
   "id": "d06e111c-1c42-43be-a0c0-b4a98ada8efe",
   "metadata": {},
   "outputs": [
    {
     "name": "stdout",
     "output_type": "stream",
     "text": [
      "Accuracy: 1.0\n",
      "Matriz de Confusión:\n",
      "[[15  0]\n",
      " [ 0 15]]\n"
     ]
    }
   ],
   "source": [
    "# Evaluar el desempeño\n",
    "evaluate_performance(y_test, y_pred)"
   ]
  }
 ],
 "metadata": {
  "kernelspec": {
   "display_name": "Python 3 (ipykernel)",
   "language": "python",
   "name": "python3"
  },
  "language_info": {
   "codemirror_mode": {
    "name": "ipython",
    "version": 3
   },
   "file_extension": ".py",
   "mimetype": "text/x-python",
   "name": "python",
   "nbconvert_exporter": "python",
   "pygments_lexer": "ipython3",
   "version": "3.11.5"
  }
 },
 "nbformat": 4,
 "nbformat_minor": 5
}
