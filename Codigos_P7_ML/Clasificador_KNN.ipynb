{
 "cells": [
  {
   "cell_type": "markdown",
   "id": "be00f1de-5b77-40c7-af07-2e4152156ed3",
   "metadata": {},
   "source": [
    "# Clasificador KNN"
   ]
  },
  {
   "cell_type": "code",
   "execution_count": 1,
   "id": "0e321b53-ef52-4216-b117-160c91ba3d97",
   "metadata": {},
   "outputs": [],
   "source": [
    "# Importar las librerías\n",
    "import numpy as np\n",
    "import pandas as pd\n",
    "import random\n",
    "from sklearn.metrics import accuracy_score, confusion_matrix\n",
    "from collections import Counter"
   ]
  },
  {
   "cell_type": "code",
   "execution_count": 2,
   "id": "0aad9781-564a-4a7d-9cc3-c3c0e867fc7a",
   "metadata": {},
   "outputs": [],
   "source": [
    "# Definir el clasificador KNN\n",
    "def knn_classifier(X_train, y_train, X_test, k):\n",
    "    def euclidean_distance(x1, x2):\n",
    "        return sum((xi - yi) ** 2 for xi, yi in zip(x1, x2)) ** 0.5\n",
    "\n",
    "    y_pred = []  # Lista para almacenar las predicciones\n",
    "\n",
    "    for x_test in X_test:\n",
    "        # Calcular la distancia de x_test a todos los puntos en X_train\n",
    "        distances = [(euclidean_distance(x_test, x_train), label) for x_train, label in zip(X_train, y_train)]\n",
    "        # Ordenar por distancia y seleccionar los k vecinos más cercanos\n",
    "        k_nearest_neighbors = sorted(distances, key=lambda x: x[0])[:k]\n",
    "        # Obtener las etiquetas de los k vecinos y elegir la más común\n",
    "        k_nearest_labels = [label for _, label in k_nearest_neighbors]\n",
    "        most_common_label = Counter(k_nearest_labels).most_common(1)[0][0]\n",
    "        y_pred.append(most_common_label)\n",
    "        \n",
    "    return y_pred"
   ]
  },
  {
   "cell_type": "code",
   "execution_count": 3,
   "id": "c4fcda0d-d90f-47ba-aefe-88e1917dc9ad",
   "metadata": {},
   "outputs": [],
   "source": [
    "# Funcion de validacion Hold-Out\n",
    "def hold_out_validation(data, k, r=0.3):\n",
    "    X = data.iloc[:, :-1].values\n",
    "    y = data.iloc[:, -1].values\n",
    "\n",
    "    n = len(X)\n",
    "    test_size = int(n * r)\n",
    "    indices = list(range(n))\n",
    "    random.shuffle(indices)\n",
    "\n",
    "    train_indices = indices[:n - test_size]\n",
    "    test_indices = indices[n - test_size:]\n",
    "    X_train, y_train = X[train_indices], y[train_indices]\n",
    "    X_test, y_test = X[test_indices], y[test_indices]\n",
    "    \n",
    "    # Predicción con KNN\n",
    "    y_pred_knn = knn_classifier(X_train, y_train, X_test, k=k)\n",
    "    \n",
    "    return y_test, y_pred_knn"
   ]
  },
  {
   "cell_type": "code",
   "execution_count": 4,
   "id": "3e46f473-5cc0-474d-ac91-94294ef133f3",
   "metadata": {},
   "outputs": [],
   "source": [
    "# Funcion de validacion K fold cross validation\n",
    "def k_fold_validation(data, k, num_folds=10):\n",
    "    X = data.iloc[:, :-1].values\n",
    "    y = data.iloc[:, -1].values\n",
    "    folds = np.array_split(data, num_folds)\n",
    "\n",
    "    y_tests = []\n",
    "    y_preds_knn = []\n",
    "    \n",
    "    for i in range(num_folds):\n",
    "        test_data = folds[i]\n",
    "        train_data = pd.concat([folds[j] for j in range(num_folds) if j != i])\n",
    "\n",
    "        X_train = train_data.iloc[:, :-1].values\n",
    "        y_train = train_data.iloc[:, -1].values\n",
    "        X_test = test_data.iloc[:, :-1].values\n",
    "        y_test = test_data.iloc[:, -1].values\n",
    "        \n",
    "        y_pred_knn = knn_classifier(X_train, y_train, X_test, k=k)\n",
    "        \n",
    "        y_tests.extend(y_test)\n",
    "        y_preds_knn.extend(y_pred_knn)\n",
    "    \n",
    "    return y_tests, y_preds_knn"
   ]
  },
  {
   "cell_type": "code",
   "execution_count": 5,
   "id": "1e04fa48-3f15-4a91-83de-a5d50f826a61",
   "metadata": {},
   "outputs": [],
   "source": [
    "def split_data(data, iteracion):\n",
    "    indices = data.index.tolist()  # Lista de índices de las filas en el conjunto de datos\n",
    "    test_data = data.iloc[[iteracion]]  # Seleccionar una fila (el patrón para prueba)\n",
    "    train_data = data.drop(iteracion)  # Todas las filas excepto la de test (para entrenamiento)\n",
    "    return train_data, test_data\n",
    "\n",
    "# Funcion de validacion leave one out\n",
    "def leave_one_out_validation(data, k):\n",
    "    y_tests = []\n",
    "    y_preds_knn = []\n",
    "\n",
    "    for i in range(len(data)):\n",
    "        # Separar un punto para prueba y el resto para entrenamiento\n",
    "        train_data, test_data = split_data(data, i)\n",
    "        X_train = train_data.iloc[:, :-1].values\n",
    "        y_train = train_data.iloc[:, -1].values\n",
    "        X_test = test_data.iloc[:, :-1].values\n",
    "        y_test = test_data.iloc[:, -1].values\n",
    "        \n",
    "        # Predicción usando KNN\n",
    "        y_pred_knn = knn_classifier(X_train, y_train, X_test, k=k)\n",
    "        \n",
    "        y_tests.extend(y_test)\n",
    "        y_preds_knn.extend(y_pred_knn)\n",
    "    \n",
    "    return y_tests, y_preds_knn"
   ]
  },
  {
   "cell_type": "code",
   "execution_count": 6,
   "id": "c6140be5-5b90-4ef2-8d94-1bc2a92b3eec",
   "metadata": {},
   "outputs": [],
   "source": [
    "# Función para evaluar el desempeño\n",
    "def evaluate_performance(y_true, y_pred):\n",
    "    accuracy = accuracy_score(y_true, y_pred)\n",
    "    conf_matrix = confusion_matrix(y_true, y_pred)\n",
    "    \n",
    "    print(\"Accuracy:\", accuracy)\n",
    "    print(\"Matriz de Confusión:\\n\", conf_matrix)"
   ]
  },
  {
   "cell_type": "code",
   "execution_count": 7,
   "id": "43a4b7e5-24d0-4cfd-8429-2cee845c6076",
   "metadata": {},
   "outputs": [
    {
     "name": "stdout",
     "output_type": "stream",
     "text": [
      "--- Validación en raisin ---\n",
      "\n",
      "Hold-Out (70/30 Estratificado): \n",
      "Accuracy: 0.8333333333333334\n",
      "Matriz de Confusión:\n",
      " [[104  20]\n",
      " [ 25 121]]\n"
     ]
    },
    {
     "name": "stderr",
     "output_type": "stream",
     "text": [
      "C:\\Users\\S ALBERT FC\\AppData\\Local\\Programs\\Python\\Python311\\Lib\\site-packages\\numpy\\core\\fromnumeric.py:59: FutureWarning: 'DataFrame.swapaxes' is deprecated and will be removed in a future version. Please use 'DataFrame.transpose' instead.\n",
      "  return bound(*args, **kwds)\n"
     ]
    },
    {
     "name": "stdout",
     "output_type": "stream",
     "text": [
      "\n",
      "10-Fold Cross-Validation Estratificado:\n",
      "Accuracy: 0.7966666666666666\n",
      "Matriz de Confusión:\n",
      " [[351  99]\n",
      " [ 84 366]]\n",
      "\n",
      "Leave-One-Out:\n",
      "Accuracy: 0.8177777777777778\n",
      "Matriz de Confusión:\n",
      " [[358  92]\n",
      " [ 72 378]]\n"
     ]
    }
   ],
   "source": [
    "# Validacion de raisin.csv\n",
    "data_raisin = pd.read_csv('raisin.csv')\n",
    "k_raisin = 3\n",
    "\n",
    "print(f\"--- Validación en raisin ---\")\n",
    "    \n",
    "# Hold-Out 70/30\n",
    "y_test, y_pred_knn = hold_out_validation(data_raisin, k_raisin)\n",
    "print(\"\\nHold-Out (70/30 Estratificado): \")\n",
    "evaluate_performance(y_test, y_pred_knn)\n",
    "    \n",
    "# 10-Fold Cross-Validation\n",
    "y_test, y_pred_knn = k_fold_validation(data_raisin, k_raisin)\n",
    "print(\"\\n10-Fold Cross-Validation Estratificado:\")\n",
    "evaluate_performance(y_test, y_pred_knn)\n",
    "    \n",
    "# Leave-One-Out\n",
    "y_test, y_pred_knn = leave_one_out_validation(data_raisin, k_raisin)\n",
    "print(\"\\nLeave-One-Out:\")\n",
    "evaluate_performance(y_test, y_pred_knn)"
   ]
  },
  {
   "cell_type": "code",
   "execution_count": 8,
   "id": "2dc2edd9-4084-480d-b7a1-5aea28984baa",
   "metadata": {},
   "outputs": [
    {
     "name": "stdout",
     "output_type": "stream",
     "text": [
      "--- Validación en glass ---\n",
      "\n",
      "Hold-Out (70/30 Estratificado): \n",
      "Accuracy: 0.9682539682539683\n",
      "Matriz de Confusión:\n",
      " [[21  0  0  0  0  0]\n",
      " [ 0 18  0  0  0  0]\n",
      " [ 0  0  4  0  0  0]\n",
      " [ 0  0  1  3  0  0]\n",
      " [ 0  0  0  1  3  0]\n",
      " [ 0  0  0  0  0 12]]\n"
     ]
    },
    {
     "name": "stderr",
     "output_type": "stream",
     "text": [
      "C:\\Users\\S ALBERT FC\\AppData\\Local\\Programs\\Python\\Python311\\Lib\\site-packages\\numpy\\core\\fromnumeric.py:59: FutureWarning: 'DataFrame.swapaxes' is deprecated and will be removed in a future version. Please use 'DataFrame.transpose' instead.\n",
      "  return bound(*args, **kwds)\n"
     ]
    },
    {
     "name": "stdout",
     "output_type": "stream",
     "text": [
      "\n",
      "10-Fold Cross-Validation Estratificado:\n",
      "Accuracy: 0.892018779342723\n",
      "Matriz de Confusión:\n",
      " [[69  0  0  0  0  0]\n",
      " [ 7 63  6  0  0  0]\n",
      " [ 0  0 16  1  0  0]\n",
      " [ 0  0  0 13  0  0]\n",
      " [ 0  0  0  6  0  3]\n",
      " [ 0  0  0  0  0 29]]\n",
      "\n",
      "Leave-One-Out:\n",
      "Accuracy: 0.9765258215962441\n",
      "Matriz de Confusión:\n",
      " [[69  0  0  0  0  0]\n",
      " [ 0 75  1  0  0  0]\n",
      " [ 0  1 16  0  0  0]\n",
      " [ 0  0  1 10  2  0]\n",
      " [ 0  0  0  0  9  0]\n",
      " [ 0  0  0  0  0 29]]\n"
     ]
    }
   ],
   "source": [
    "# Validacion de glass.csv\n",
    "data_raisin = pd.read_csv('glass.csv')\n",
    "k_glass = 5\n",
    "\n",
    "print(f\"--- Validación en glass ---\")\n",
    "    \n",
    "# Hold-Out 70/30\n",
    "y_test, y_pred_knn = hold_out_validation(data_raisin, k_glass)\n",
    "print(\"\\nHold-Out (70/30 Estratificado): \")\n",
    "evaluate_performance(y_test, y_pred_knn)\n",
    "    \n",
    "# 10-Fold Cross-Validation\n",
    "y_test, y_pred_knn = k_fold_validation(data_raisin, k_glass)\n",
    "print(\"\\n10-Fold Cross-Validation Estratificado:\")\n",
    "evaluate_performance(y_test, y_pred_knn)\n",
    "    \n",
    "# Leave-One-Out\n",
    "y_test, y_pred_knn = leave_one_out_validation(data_raisin, k_glass)\n",
    "print(\"\\nLeave-One-Out:\")\n",
    "evaluate_performance(y_test, y_pred_knn)"
   ]
  },
  {
   "cell_type": "code",
   "execution_count": 9,
   "id": "c768e315-3e21-4b5c-a93b-c00db5c932a8",
   "metadata": {},
   "outputs": [
    {
     "name": "stdout",
     "output_type": "stream",
     "text": [
      "--- Validación en raisin ---\n",
      "\n",
      "Hold-Out (70/30 Estratificado): \n",
      "Accuracy: 0.9318181818181818\n",
      "Matriz de Confusión:\n",
      " [[13  0  0]\n",
      " [ 0 16  2]\n",
      " [ 0  1 12]]\n"
     ]
    },
    {
     "name": "stderr",
     "output_type": "stream",
     "text": [
      "C:\\Users\\S ALBERT FC\\AppData\\Local\\Programs\\Python\\Python311\\Lib\\site-packages\\numpy\\core\\fromnumeric.py:59: FutureWarning: 'DataFrame.swapaxes' is deprecated and will be removed in a future version. Please use 'DataFrame.transpose' instead.\n",
      "  return bound(*args, **kwds)\n"
     ]
    },
    {
     "name": "stdout",
     "output_type": "stream",
     "text": [
      "\n",
      "10-Fold Cross-Validation Estratificado:\n",
      "Accuracy: 0.9463087248322147\n",
      "Matriz de Confusión:\n",
      " [[49  0  0]\n",
      " [ 0 46  4]\n",
      " [ 0  4 46]]\n",
      "\n",
      "Leave-One-Out:\n",
      "Accuracy: 0.959731543624161\n",
      "Matriz de Confusión:\n",
      " [[49  0  0]\n",
      " [ 0 47  3]\n",
      " [ 0  3 47]]\n"
     ]
    }
   ],
   "source": [
    "# Validacion de iris.csv\n",
    "data_raisin = pd.read_csv('iris.csv')\n",
    "k_iris = 3\n",
    "\n",
    "print(f\"--- Validación en raisin ---\")\n",
    "    \n",
    "# Hold-Out 70/30\n",
    "y_test, y_pred_knn = hold_out_validation(data_raisin, k_iris)\n",
    "print(\"\\nHold-Out (70/30 Estratificado): \")\n",
    "evaluate_performance(y_test, y_pred_knn)\n",
    "    \n",
    "# 10-Fold Cross-Validation\n",
    "y_test, y_pred_knn = k_fold_validation(data_raisin, k_iris)\n",
    "print(\"\\n10-Fold Cross-Validation Estratificado:\")\n",
    "evaluate_performance(y_test, y_pred_knn)\n",
    "    \n",
    "# Leave-One-Out\n",
    "y_test, y_pred_knn = leave_one_out_validation(data_raisin, k_iris)\n",
    "print(\"\\nLeave-One-Out:\")\n",
    "evaluate_performance(y_test, y_pred_knn)"
   ]
  }
 ],
 "metadata": {
  "kernelspec": {
   "display_name": "Python 3 (ipykernel)",
   "language": "python",
   "name": "python3"
  },
  "language_info": {
   "codemirror_mode": {
    "name": "ipython",
    "version": 3
   },
   "file_extension": ".py",
   "mimetype": "text/x-python",
   "name": "python",
   "nbconvert_exporter": "python",
   "pygments_lexer": "ipython3",
   "version": "3.11.5"
  }
 },
 "nbformat": 4,
 "nbformat_minor": 5
}
